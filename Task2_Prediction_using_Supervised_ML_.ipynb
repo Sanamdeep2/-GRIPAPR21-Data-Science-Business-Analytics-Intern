{
 "cells": [
  {
   "cell_type": "markdown",
   "metadata": {
    "colab_type": "text",
    "id": "view-in-github"
   },
   "source": [
    "### Task2"
   ]
  },
  {
   "cell_type": "markdown",
   "metadata": {
    "id": "z82J8zo8B1ie"
   },
   "source": [
    "# Author:Sanamdeep singh anand\n",
    "# The Sparks Foundation\n",
    "## Data Science & Business Analytics Intern\n",
    "###  1. Prediction_using_supervised_Ml\n",
    "###### Data Source:  http://bit.ly/w-data\n",
    "###### Problem Statement : Predict the percentage of an student based on the no. of study hours.\n",
    "<img src='spark.png' width=\"100\" height=\"100\">"
   ]
  },
  {
   "cell_type": "markdown",
   "metadata": {
    "id": "amPM3BbJ_I9E"
   },
   "source": [
    "\n"
   ]
  },
  {
   "cell_type": "markdown",
   "metadata": {
    "id": "1vun9vaA-a0N"
   },
   "source": [
    "**Step 1: Import packages and classes**\n",
    "\n",
    "The first step is to import the package pandas,numpy,matplotlib and the class LinearRegression from sklearn.linear_model:\n"
   ]
  },
  {
   "cell_type": "code",
   "execution_count": null,
   "metadata": {
    "id": "rmsIzi3T_BYe"
   },
   "outputs": [],
   "source": [
    "import pandas as pd\n",
    "import numpy as np\n",
    "import matplotlib.pyplot as plt\n",
    "import seaborn as sns\n",
    "from sklearn.linear_model import LinearRegression\n"
   ]
  },
  {
   "cell_type": "markdown",
   "metadata": {
    "id": "RMJUZENQXKUj"
   },
   "source": [
    "**Step 2:Read dataset**\n"
   ]
  },
  {
   "cell_type": "code",
   "execution_count": null,
   "metadata": {
    "id": "Z3-v3Dyp_Vhu"
   },
   "outputs": [],
   "source": [
    "# Reading data from remote link\n",
    "url = \"http://bit.ly/w-data\"\n",
    "data = pd.read_csv(url)"
   ]
  },
  {
   "cell_type": "markdown",
   "metadata": {
    "id": "zvmDXrBk_8KS"
   },
   "source": [
    "**Step 3: Understand the dataset**\n",
    "\n",
    "Take a Quick Look at the Data Structure"
   ]
  },
  {
   "cell_type": "code",
   "execution_count": null,
   "metadata": {
    "colab": {
     "base_uri": "https://localhost:8080/",
     "height": 195
    },
    "id": "nS4shUUAATR1",
    "outputId": "8195ca91-5ff7-45cb-8910-1daf497af1e3"
   },
   "outputs": [],
   "source": [
    "#Let’s take a look at the top five rows using the DataFrame’s head() method\n",
    "data.head()"
   ]
  },
  {
   "cell_type": "code",
   "execution_count": null,
   "metadata": {
    "colab": {
     "base_uri": "https://localhost:8080/",
     "height": 67
    },
    "id": "FJaLoKv0GsAb",
    "outputId": "da4fc3a2-247f-471f-daf1-2eacb58c0b0f"
   },
   "outputs": [],
   "source": [
    "# check if there is any missing value\n",
    "data.isnull().sum()"
   ]
  },
  {
   "cell_type": "code",
   "execution_count": null,
   "metadata": {
    "colab": {
     "base_uri": "https://localhost:8080/",
     "height": 284
    },
    "id": "dde0kLHgsHvZ",
    "outputId": "4f7fb51f-e6a9-42e6-c6f3-892c6b882d05"
   },
   "outputs": [],
   "source": [
    "# statistical information of data\n",
    "data.describe()"
   ]
  },
  {
   "cell_type": "markdown",
   "metadata": {
    "id": "heVc61uAD_KS"
   },
   "source": [
    "Creating feature and target arrays"
   ]
  },
  {
   "cell_type": "code",
   "execution_count": null,
   "metadata": {
    "id": "X1t4_Bghux0d"
   },
   "outputs": [],
   "source": [
    "X = data.drop(\"Scores\",axis=1).values #Feature/independent variable\n",
    "y = data['Scores'].values #target/dependent variables"
   ]
  },
  {
   "cell_type": "markdown",
   "metadata": {
    "id": "qGTaaYVNExhx"
   },
   "source": [
    "Plotting Hours(X) value vs. Score(y)"
   ]
  },
  {
   "cell_type": "code",
   "execution_count": null,
   "metadata": {
    "colab": {
     "base_uri": "https://localhost:8080/",
     "height": 295
    },
    "id": "2Jj67_HHE5Er",
    "outputId": "296f6b72-9e92-4a0f-cb0b-9e81ea675e83"
   },
   "outputs": [],
   "source": [
    "sns.scatterplot(x = data.Hours,y = data.Scores)\n",
    "plt.xlabel('Hours Studied')\n",
    "plt.ylabel('Scores')\n",
    "plt.title('Relation Between Hours and Scores')\n",
    "plt.show()"
   ]
  },
  {
   "cell_type": "markdown",
   "metadata": {
    "id": "CXwj4xj98tlc"
   },
   "source": [
    "From above graph we can see that there is a positive linear relationship between the Hours studied and the score achieved. since it's have dependent variable(Y) and one independet variable(X) we can direactly apply linear regression\n"
   ]
  },
  {
   "cell_type": "markdown",
   "metadata": {
    "id": "XZkR8BOF9h_d"
   },
   "source": [
    "**4.Create a regression model and fit it with existing data.**\n",
    "\n",
    "**Fitting a regression model**"
   ]
  },
  {
   "cell_type": "code",
   "execution_count": null,
   "metadata": {
    "id": "4GC3KDsG8zmC"
   },
   "outputs": [],
   "source": [
    "from sklearn.linear_model import LinearRegression\n",
    "reg = LinearRegression()\n",
    "reg.fit(X,y)\n",
    "prediction_space = np.linspace(min(X),max(X)).reshape(-1, 1)"
   ]
  },
  {
   "cell_type": "markdown",
   "metadata": {
    "id": "7aKrISDOYkNM"
   },
   "source": [
    "Equation of linear regression\n",
    "\n",
    "𝑦=𝑐+𝑚x\n",
    "\n",
    "𝑦 is the Score\n",
    "\n",
    "𝑐 is the intercept\n",
    "\n",
    "𝑚 is the coefficient for the feature\n",
    "\n",
    "In our case: 𝑦=𝑐+𝑚×Hours\n",
    "\n",
    "The 𝑚 values are called the model coefficients or model parameters."
   ]
  },
  {
   "cell_type": "code",
   "execution_count": null,
   "metadata": {
    "colab": {
     "base_uri": "https://localhost:8080/",
     "height": 265
    },
    "id": "MfA-cs2E-wDH",
    "outputId": "c3d36bee-b800-47fc-d625-cd95f7f991e8"
   },
   "outputs": [],
   "source": [
    "plt.scatter(X, y, color='blue')\n",
    "plt.plot(prediction_space, reg.predict(prediction_space),\n",
    "color='black', linewidth=3)\n",
    "plt.show()"
   ]
  },
  {
   "cell_type": "markdown",
   "metadata": {
    "id": "3tXWKoUE_gaq"
   },
   "source": [
    "Linear regression on all features"
   ]
  },
  {
   "cell_type": "code",
   "execution_count": null,
   "metadata": {
    "colab": {
     "base_uri": "https://localhost:8080/",
     "height": 50
    },
    "id": "e0PGQy1n-zbV",
    "outputId": "8ab905f4-013e-4cd9-a7a0-d43e85cffa11"
   },
   "outputs": [],
   "source": [
    "from sklearn.model_selection import train_test_split\n",
    "from sklearn.linear_model import LinearRegression\n",
    "X_train, X_test, y_train, y_test = train_test_split(X, y, random_state=0)\n",
    "lr = LinearRegression().fit(X_train, y_train)\n",
    "print(\"Training set score: {:.2f}\".format(lr.score(X_train, y_train)))\n",
    "print(\"Test set score: {:.2f}\".format(lr.score(X_test, y_test)))"
   ]
  },
  {
   "cell_type": "code",
   "execution_count": null,
   "metadata": {
    "colab": {
     "base_uri": "https://localhost:8080/",
     "height": 50
    },
    "id": "BCDU3AVEcY2U",
    "outputId": "5ac0209e-811e-4c55-9cf2-fa2adbbaa7ad"
   },
   "outputs": [],
   "source": [
    "# to see the parameters of train dataset\n",
    "\n",
    "print(\"Coeff:     \",lr.coef_)     # coeff. of X(train) variable\n",
    "print(\"Intercept: \",lr.intercept_)  # constant (c)"
   ]
  },
  {
   "cell_type": "code",
   "execution_count": null,
   "metadata": {
    "colab": {
     "base_uri": "https://localhost:8080/",
     "height": 265
    },
    "id": "I_4SHOc7b6xD",
    "outputId": "d4b7313c-f691-474a-cf9c-8a34de96617e"
   },
   "outputs": [],
   "source": [
    "plt.scatter(X_train, y_train)\n",
    "\n",
    "# r (red) color of predicted line\n",
    "\n",
    "plt.plot(X_train, 1.9322+9.94167834*X_train, 'r')\n",
    "plt.show()\n"
   ]
  },
  {
   "cell_type": "markdown",
   "metadata": {
    "id": "c2V720ckd895"
   },
   "source": [
    "**6.Apply the model for predictions.**\n",
    "\n",
    "Q:- What will be predicted score if a student studies for 9.25 hrs/ day?"
   ]
  },
  {
   "cell_type": "code",
   "execution_count": null,
   "metadata": {
    "colab": {
     "base_uri": "https://localhost:8080/",
     "height": 34
    },
    "id": "A7LZDmuLegkK",
    "outputId": "94ef3004-57bb-40e1-b000-9737080d64ee"
   },
   "outputs": [],
   "source": [
    "Hours = float(input(\"Enter Study Hours: \"))"
   ]
  },
  {
   "cell_type": "code",
   "execution_count": null,
   "metadata": {
    "colab": {
     "base_uri": "https://localhost:8080/",
     "height": 34
    },
    "id": "zOg9dPqzd8R9",
    "outputId": "71ad20cb-4224-43d8-ec39-d0832968f8bb"
   },
   "outputs": [],
   "source": [
    "Hours = [[Hours]]\n",
    "lr.predict(Hours)"
   ]
  },
  {
   "cell_type": "markdown",
   "metadata": {
    "id": "7UIGbCS-gmAN"
   },
   "source": [
    "Solution:- predicted score if a student studies for 9.25 hrs/ day score is 93.89%\n",
    "\n"
   ]
  },
  {
   "cell_type": "code",
   "execution_count": null,
   "metadata": {
    "id": "R9KjKGHSesDO"
   },
   "outputs": [],
   "source": []
  }
 ],
 "metadata": {
  "colab": {
   "authorship_tag": "ABX9TyMq8XP1ZHggmj/L7TUE6mQm",
   "collapsed_sections": [],
   "include_colab_link": true,
   "name": "Prediction using Supervised ML .ipynb",
   "provenance": []
  },
  "kernelspec": {
   "display_name": "Python 3",
   "language": "python",
   "name": "python3"
  },
  "language_info": {
   "codemirror_mode": {
    "name": "ipython",
    "version": 3
   },
   "file_extension": ".py",
   "mimetype": "text/x-python",
   "name": "python",
   "nbconvert_exporter": "python",
   "pygments_lexer": "ipython3",
   "version": "3.7.4"
  }
 },
 "nbformat": 4,
 "nbformat_minor": 1
}
